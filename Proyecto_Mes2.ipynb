{
 "cells": [
  {
   "cell_type": "code",
   "execution_count": null,
   "id": "b6f72e88-4d00-446c-9f56-7481469a931f",
   "metadata": {},
   "outputs": [],
   "source": [
    "import pandas as pd\n",
    "import numpy as np\n",
    "from sklearn.feature_selection import RFE\n",
    "from sklearn.linear_model import LinearRegression\n",
    "from sklearn.tree import DecisionTreeRegressor\n",
    "from sklearn.model_selection import KFold, cross_val_score\n",
    "from sklearn.neural_network import MLPRegressor\n",
    "from sklearn.ensemble import RandomForestRegressor\n",
    "from sklearn.metrics import mean_squared_error, r2_score\n",
    "import seaborn as sns\n",
    "import matplotlib.pyplot as plt"
   ]
  },
  {
   "cell_type": "code",
   "execution_count": null,
   "id": "1a0e4c6b-6e9a-4751-a92e-38bbcbb7f157",
   "metadata": {},
   "outputs": [],
   "source": [
    "df = pd.read_csv('auto-mpg.csv')\n",
    "df.head()"
   ]
  },
  {
   "cell_type": "code",
   "execution_count": null,
   "id": "4e4078a5-96cf-49d9-9d81-70d47ccf59ff",
   "metadata": {},
   "outputs": [],
   "source": [
    "df.info()"
   ]
  },
  {
   "cell_type": "markdown",
   "id": "31e0332e-a480-44d1-9b5a-9cd65162c0e3",
   "metadata": {},
   "source": [
    "### Verificar Valores Nulos"
   ]
  },
  {
   "cell_type": "code",
   "execution_count": null,
   "id": "39f38248-46a0-4494-80c5-7e0fc8378e12",
   "metadata": {},
   "outputs": [],
   "source": [
    "# Verificar valores nulos\n",
    "df.isnull().sum()"
   ]
  },
  {
   "cell_type": "code",
   "execution_count": null,
   "id": "e1f9d474-fc86-4b52-890d-90655eceaf04",
   "metadata": {},
   "outputs": [],
   "source": [
    "# Contar valores '?' en horsepower\n",
    "print(\"\\nNúmero de valores '?' en horsepower:\", (df['horsepower'] == '?').sum())"
   ]
  },
  {
   "cell_type": "markdown",
   "id": "4eaac020-00ad-497f-90a3-ae9607194c4a",
   "metadata": {},
   "source": [
    "### Remmplazar '?' con NaN y Convertir a Numerico"
   ]
  },
  {
   "cell_type": "code",
   "execution_count": null,
   "id": "82fbd051-5703-4385-8f30-f0817fc0060d",
   "metadata": {},
   "outputs": [],
   "source": [
    "import numpy as np\n",
    "# Reemplazar '?' por NaN y convertir a numérico\n",
    "df['horsepower'] = df['horsepower'].replace('?', np.nan)\n",
    "df['horsepower'] = pd.to_numeric(df['horsepower'])"
   ]
  },
  {
   "cell_type": "code",
   "execution_count": null,
   "id": "6cf66016-fde5-4c39-9b92-a4816c348ec9",
   "metadata": {},
   "outputs": [],
   "source": [
    "# Verificar valores nulos después de la conversión\n",
    "df.isnull().sum()"
   ]
  },
  {
   "cell_type": "code",
   "execution_count": null,
   "id": "00b1a942-02fd-45d8-bb21-f7435792a8ab",
   "metadata": {},
   "outputs": [],
   "source": [
    "# Estadísticas descriptivas de horsepower\n",
    "print(\"\\nEstadísticas de horsepower antes de la imputación:\")\n",
    "df['horsepower'].describe()"
   ]
  },
  {
   "cell_type": "code",
   "execution_count": null,
   "id": "bd3141f9-fde2-4ac9-8956-34aab454a7f8",
   "metadata": {},
   "outputs": [],
   "source": [
    "from sklearn.impute import SimpleImputer\n",
    "\n",
    "# Imputar valores nulos en horsepower con la mediana\n",
    "imputer = SimpleImputer(strategy='median')\n",
    "df['horsepower'] = imputer.fit_transform(df[['horsepower']])\n",
    "\n",
    "# Verificar valores nulos después de la imputación\n",
    "df.isnull().sum()"
   ]
  },
  {
   "cell_type": "markdown",
   "id": "b05e8780-564c-4de5-b9c8-12244b3c4f7e",
   "metadata": {},
   "source": [
    "Técnica elegida: SimpleImputer con mediana, porque:\n",
    "\n",
    "La mediana (93.5) es robusta frente a valores atípicos (máximo 230, sesgo moderado).\n",
    "Solo 6 valores faltantes (1.5%) justifican una imputación simple.\n",
    "La mediana es adecuada para la distribución sesgada de horsepower. Se resolvieron los 6 valores nulos originales."
   ]
  },
  {
   "cell_type": "code",
   "execution_count": null,
   "id": "ba68c066-2ac7-4719-a718-b9dcb2e69a1b",
   "metadata": {},
   "outputs": [],
   "source": [
    "# Generar valores nulos en weight (5% de las filas)\n",
    "np.random.seed(42)  # Para reproducibilidad\n",
    "mask = np.random.choice([True, False], size=df.shape[0], p=[0.05, 0.95])\n",
    "df.loc[mask, 'weight'] = np.nan\n",
    "\n",
    "# Verificar valores nulos después de generarlos\n",
    "df.isnull().sum()"
   ]
  },
  {
   "cell_type": "code",
   "execution_count": null,
   "id": "b0711cd1-3e6c-4370-8ac1-5e2fde08c32b",
   "metadata": {},
   "outputs": [],
   "source": [
    "# Estadísticas descriptivas de weight\n",
    "print(\"\\nEstadísticas de weight antes de la imputación:\")\n",
    "df['weight'].describe()"
   ]
  },
  {
   "cell_type": "code",
   "execution_count": null,
   "id": "778beba9-d54a-4e6d-8ff5-1b73d6444fda",
   "metadata": {},
   "outputs": [],
   "source": [
    "# Imputar valores nulos en weight\n",
    "imputer = SimpleImputer(strategy='median')\n",
    "df['weight'] = imputer.fit_transform(df[['weight']])\n",
    "\n",
    "# Verificar valores nulos\n",
    "print(\"\\nValores nulos después de imputar weight:\")\n",
    "df.isnull().sum()"
   ]
  },
  {
   "cell_type": "code",
   "execution_count": null,
   "id": "9faaefd2-ebf8-4228-ba77-33981ec98b63",
   "metadata": {},
   "outputs": [],
   "source": [
    "# Tipos de datos\n",
    "df.dtypes"
   ]
  },
  {
   "cell_type": "markdown",
   "id": "e96b28ea-f7dc-4b04-88d1-2647bccad4fe",
   "metadata": {},
   "source": [
    "## 2. Conversion de Atributos con OneHotEncoder"
   ]
  },
  {
   "cell_type": "code",
   "execution_count": null,
   "id": "61628176-5ea3-4774-a392-ff46850743f3",
   "metadata": {},
   "outputs": [],
   "source": [
    "# Número de valores únicos en car name\n",
    "print(\"\\nNúmero de valores únicos en car name:\", df['car name'].nunique())\n",
    "\n",
    "# Extraer la marca\n",
    "df['brand'] = df['car name'].apply(lambda x: x.split()[0])\n",
    "\n",
    "# Verificar marcas\n",
    "print(\"\\nNúmero de marcas únicas:\", df['brand'].nunique())\n",
    "print(\"\\nFrecuencia de las 5 marcas más comunes:\")\n",
    "df['brand'].value_counts().head()"
   ]
  },
  {
   "cell_type": "code",
   "execution_count": null,
   "id": "100c5417-4268-4cb6-a173-c9059d760bd2",
   "metadata": {},
   "outputs": [],
   "source": [
    "from sklearn.preprocessing import OneHotEncoder\n",
    "\n",
    "# Codificar brand\n",
    "encoder = OneHotEncoder(sparse_output=False, handle_unknown='ignore')\n",
    "brand_encoded = encoder.fit_transform(df[['brand']])\n",
    "brand_encoded_df = pd.DataFrame(brand_encoded, columns=encoder.get_feature_names_out(['brand']))\n",
    "\n",
    "# Concatenar y eliminar columnas\n",
    "df = pd.concat([df, brand_encoded_df], axis=1)\n",
    "df = df.drop(['brand', 'car name'], axis=1)\n",
    "\n",
    "# Mostrar primeras filas\n",
    "print(\"\\nPrimeras filas después de codificar brand:\")\n",
    "df.head()"
   ]
  },
  {
   "cell_type": "code",
   "execution_count": null,
   "id": "2dcb08fc-f8c9-440d-aa53-4224663422d1",
   "metadata": {},
   "outputs": [],
   "source": [
    "# Valores únicos en origin\n",
    "print(\"\\nValores únicos en origin:\", df['origin'].unique())"
   ]
  },
  {
   "cell_type": "markdown",
   "id": "cc28f31e-36b5-45d1-8968-a182628ba083",
   "metadata": {},
   "source": [
    "## 3. Esacalado de Atributos con StandardScaler"
   ]
  },
  {
   "cell_type": "code",
   "execution_count": null,
   "id": "95024ed2-09f2-45cc-9875-04242b46305a",
   "metadata": {},
   "outputs": [],
   "source": [
    "num_cols = ['mpg', 'cylinders', 'displacement', 'horsepower', 'weight', 'acceleration', 'model year', 'origin']\n",
    "print(\"\\nEstadísticas descriptivas de las columnas numéricas:\")\n",
    "df[num_cols].describe()\n",
    "\n",
    "print(\"\\nSesgo (skewness):\")\n",
    "df[num_cols].skew()"
   ]
  },
  {
   "cell_type": "code",
   "execution_count": null,
   "id": "2d3dde82-a906-4f56-8e6f-d61aab2ed00c",
   "metadata": {},
   "outputs": [],
   "source": [
    "from sklearn.preprocessing import StandardScaler\n",
    "\n",
    "# Escalar columnas numéricas (excepto mpg y brand_*)\n",
    "num_cols_to_scale = ['cylinders', 'displacement', 'horsepower', 'weight', 'acceleration', 'model year', 'origin']\n",
    "scaler = StandardScaler()\n",
    "df[num_cols_to_scale] = scaler.fit_transform(df[num_cols_to_scale])\n",
    "\n",
    "# Mostrar estadísticas\n",
    "print(\"\\nEstadísticas después de StandardScaler:\")\n",
    "df[num_cols_to_scale].describe()"
   ]
  },
  {
   "cell_type": "markdown",
   "id": "3b92f931-dcd6-4615-873b-d08ee89ab5ca",
   "metadata": {},
   "source": [
    " ## 4. Seleccion de Atributos"
   ]
  },
  {
   "cell_type": "code",
   "execution_count": null,
   "id": "de0396b6-53ef-4a7c-bc35-67c7142cb33b",
   "metadata": {},
   "outputs": [],
   "source": [
    "# Separar X e y\n",
    "X = df.drop('mpg', axis=1)\n",
    "y = df['mpg']\n",
    "print(\"\\nDimensiones de X:\", X.shape)  # (398, 41)"
   ]
  },
  {
   "cell_type": "code",
   "execution_count": null,
   "id": "96c735f2-68a6-45a3-b468-d6efb7717272",
   "metadata": {},
   "outputs": [],
   "source": [
    "# Columnas numéricas + mpg\n",
    "num_cols = ['mpg', 'cylinders', 'displacement', 'horsepower', 'weight', 'acceleration', 'model year', 'origin']\n",
    "corr_matrix = df[num_cols].corr()\n",
    "\n",
    "# Visualizar matriz de correlación\n",
    "plt.figure(figsize=(10, 8))\n",
    "sns.heatmap(corr_matrix, annot=True, cmap='coolwarm', vmin=-1, vmax=1, center=0)\n",
    "plt.title('Matriz de Correlación')\n",
    "plt.show()\n",
    "\n",
    "# Correlaciones con mpg\n",
    "print(\"\\nCorrelaciones con mpg:\")\n",
    "print(corr_matrix['mpg'].sort_values(ascending=False))"
   ]
  },
  {
   "cell_type": "markdown",
   "id": "a837072e-0131-4808-8b86-9cb303a3cb4a",
   "metadata": {},
   "source": []
  },
  {
   "cell_type": "code",
   "execution_count": null,
   "id": "923ef39c-7d6c-4e70-bf7b-64691de3c019",
   "metadata": {},
   "outputs": [],
   "source": [
    "# Modelo base\n",
    "model = LinearRegression()\n",
    "\n",
    "# RFE para 6 atributos\n",
    "rfe = RFE(estimator=model, n_features_to_select=6)\n",
    "rfe.fit(X, y)\n",
    "\n",
    "# Ranking y selección\n",
    "rfe_ranking = pd.DataFrame({'Feature': X.columns, 'Ranking': rfe.ranking_, 'Selected': rfe.support_})\n",
    "print(\"\\nRanking de características (RFE, 6 atributos):\")\n",
    "print(rfe_ranking.sort_values(by='Ranking').head(10))\n",
    "\n",
    "# Características seleccionadas\n",
    "selected_features_rfe = X.columns[rfe.support_].tolist()\n",
    "print(\"\\nAtributos seleccionados por RFE:\", selected_features_rfe)"
   ]
  },
  {
   "cell_type": "code",
   "execution_count": null,
   "id": "fe9d1f64-a5f7-4919-a1d2-d0fc99c04272",
   "metadata": {},
   "outputs": [],
   "source": [
    "# Árbol de decisión\n",
    "tree = DecisionTreeRegressor(random_state=42)\n",
    "tree.fit(X, y)\n",
    "\n",
    "# Importancia de características\n",
    "feature_importance = pd.DataFrame({'Feature': X.columns, 'Importance': tree.feature_importances_})\n",
    "print(\"\\nImportancia de características (Árbol de Decisión):\")\n",
    "print(feature_importance.sort_values(by='Importance', ascending=False).head(10))\n",
    "\n",
    "# Top 6\n",
    "top_features_tree = feature_importance.nlargest(6, 'Importance')['Feature'].tolist()\n",
    "print(\"\\nAtributos seleccionados por Árbol de Decisión:\", top_features_tree)"
   ]
  },
  {
   "cell_type": "code",
   "execution_count": null,
   "id": "aa5f5b7e-dc41-4f02-8452-a99f64e5e3a5",
   "metadata": {},
   "outputs": [],
   "source": [
    "# Seleccionar atributos\n",
    "selected_features = ['weight', 'horsepower', 'model year', 'acceleration', 'brand_vw']\n",
    "X_selected = X[selected_features]\n",
    "print(\"\\nDimensiones de X_selected:\", X_selected.shape)  # (398, 5)"
   ]
  },
  {
   "cell_type": "markdown",
   "id": "6b6b62bd-2dd2-44aa-ac0b-3895bf88ef5c",
   "metadata": {},
   "source": [
    "# Modelado"
   ]
  },
  {
   "cell_type": "code",
   "execution_count": null,
   "id": "955f0e47-837a-4d2d-9f88-72773e4c0d1f",
   "metadata": {},
   "outputs": [],
   "source": [
    "# Asumimos X_selected y y ya definidos\n",
    "print(\"Dimensiones de X_selected:\", X_selected.shape)  # (398, 5)\n",
    "print(\"Primeras filas de X_selected:\\n\", X_selected.head())\n",
    "print(\"Primeras filas de y:\\n\", y.head())"
   ]
  },
  {
   "cell_type": "code",
   "execution_count": null,
   "id": "e9c18fe9-8a24-455b-a8ec-5da53624b3ff",
   "metadata": {},
   "outputs": [],
   "source": [
    "# Configurar red neuronal\n",
    "nn_model = MLPRegressor(hidden_layer_sizes=(100, 50), activation='relu', solver='adam', \n",
    "                        max_iter=1000, random_state=42, early_stopping=True, validation_fraction=0.1)\n",
    "\n",
    "# K-Fold Cross-Validation (k=5)\n",
    "kf = KFold(n_splits=5, shuffle=True, random_state=42)\n",
    "\n",
    "# R²\n",
    "nn_r2_scores = cross_val_score(nn_model, X_selected, y, cv=kf, scoring='r2')\n",
    "nn_r2_mean = nn_r2_scores.mean()\n",
    "nn_r2_std = nn_r2_scores.std()\n",
    "nn_r2_var = nn_r2_std ** 2\n",
    "\n",
    "# RMSE\n",
    "nn_rmse_scores = np.sqrt(-cross_val_score(nn_model, X_selected, y, cv=kf, scoring='neg_mean_squared_error'))\n",
    "nn_rmse_mean = nn_rmse_scores.mean()\n",
    "nn_rmse_std = nn_rmse_scores.std()\n",
    "nn_rmse_var = nn_rmse_std ** 2\n",
    "\n",
    "print(\"\\nRed Neuronal (MLPRegressor) - Resultados de Validación Cruzada (k=5):\")\n",
    "print(f\"R² - Media: {nn_r2_mean:.4f}, Desviación Estándar: {nn_r2_std:.4f}, Varianza: {nn_r2_var:.4f}\")\n",
    "print(f\"RMSE - Media: {nn_rmse_mean:.4f}, Desviación Estándar: {nn_rmse_std:.4f}, Varianza: {nn_rmse_var:.4f}\")"
   ]
  },
  {
   "cell_type": "code",
   "execution_count": null,
   "id": "59f8f469-723a-4727-bee4-746a687743b8",
   "metadata": {},
   "outputs": [],
   "source": [
    "# Configurar Random Forest\n",
    "rf_model = RandomForestRegressor(n_estimators=100, random_state=42)\n",
    "\n",
    "# R²\n",
    "rf_r2_scores = cross_val_score(rf_model, X_selected, y, cv=kf, scoring='r2')\n",
    "rf_r2_mean = rf_r2_scores.mean()\n",
    "rf_r2_std = rf_r2_scores.std()\n",
    "rf_r2_var = rf_r2_std ** 2\n",
    "\n",
    "# RMSE\n",
    "rf_rmse_scores = np.sqrt(-cross_val_score(rf_model, X_selected, y, cv=kf, scoring='neg_mean_squared_error'))\n",
    "rf_rmse_mean = rf_rmse_scores.mean()\n",
    "rf_rmse_std = rf_rmse_scores.std()\n",
    "rf_rmse_var = rf_rmse_std ** 2\n",
    "\n",
    "print(\"\\nRandom Forest Regressor - Resultados de Validación Cruzada (k=5):\")\n",
    "print(f\"R² - Media: {rf_r2_mean:.4f}, Desviación Estándar: {rf_r2_std:.4f}, Varianza: {rf_r2_var:.4f}\")\n",
    "print(f\"RMSE - Media: {rf_rmse_mean:.4f}, Desviación Estándar: {rf_rmse_std:.4f}, Varianza: {rf_rmse_var:.4f}\")"
   ]
  },
  {
   "cell_type": "code",
   "execution_count": null,
   "id": "d86eb816-639c-4abc-acbf-897336e06d38",
   "metadata": {},
   "outputs": [],
   "source": [
    "from sklearn.model_selection import train_test_split\n",
    "\n",
    "# Dividir datos\n",
    "X_train, X_test, y_train, y_test = train_test_split(X_selected, y, test_size=0.2, random_state=42)"
   ]
  },
  {
   "cell_type": "code",
   "execution_count": null,
   "id": "1dfa3195-1cca-4a34-a85a-a1fa751a4c50",
   "metadata": {},
   "outputs": [],
   "source": [
    "# Entrenar Red Neuronal\n",
    "nn_model.fit(X_train, y_train)\n",
    "y_pred_nn = nn_model.predict(X_test)\n",
    "\n",
    "# Entrenar Random Forest\n",
    "rf_model.fit(X_train, y_train)\n",
    "y_pred_rf = rf_model.predict(X_test)\n",
    "\n",
    "# Métricas en conjunto de prueba\n",
    "nn_r2_test = r2_score(y_test, y_pred_nn)\n",
    "nn_rmse_test = np.sqrt(mean_squared_error(y_test, y_pred_nn)) \n",
    "rf_r2_test = r2_score(y_test, y_pred_rf)\n",
    "rf_rmse_test = np.sqrt(mean_squared_error(y_test, y_pred_rf))  \n",
    "\n",
    "print(\"\\nMétricas en conjunto de prueba:\")\n",
    "print(f\"Red Neuronal - R²: {nn_r2_test:.4f}, RMSE: {nn_rmse_test:.4f}\")\n",
    "print(f\"Random Forest - R²: {rf_r2_test:.4f}, RMSE: {rf_rmse_test:.4f}\")"
   ]
  },
  {
   "cell_type": "code",
   "execution_count": null,
   "id": "9e279cce-63b8-4534-a4b0-397bb7cc91cb",
   "metadata": {},
   "outputs": [],
   "source": [
    "# === Porcentaje dentro de ±2 mpg (Conjunto de Prueba) ===\n",
    "nn_within_2mpg = np.mean(np.abs(y_test - y_pred_nn) <= 2.0) * 100\n",
    "rf_within_2mpg = np.mean(np.abs(y_test - y_pred_rf) <= 2.0) * 100"
   ]
  },
  {
   "cell_type": "code",
   "execution_count": null,
   "id": "14a7ee3f-d3da-4716-83a0-e5d1a653a6ce",
   "metadata": {},
   "outputs": [],
   "source": [
    "print(\"\\n=== Red Neuronal ===\")\n",
    "print(\"R² promedio (5-fold):\", nn_r2_mean * 100)\n",
    "print(\"R² por fold:\", nn_r2_scores)\n",
    "print(\"Desviación estándar de R²:\", round(nn_r2_std, 4))\n",
    "print(\"Promedio de R²:\", round(nn_r2_mean, 4))\n",
    "print(\"Varianza de R²:\", round(nn_r2_var, 4))\n",
    "print(\"RMSE promedio (5-fold):\", nn_rmse_mean)\n",
    "print(\"RMSE por fold:\", nn_rmse_scores)\n",
    "print(\"Desviación estándar de RMSE:\", round(nn_rmse_std, 4))\n",
    "print(\"Promedio de RMSE:\", round(nn_rmse_mean, 4))\n",
    "print(\"Varianza de RMSE:\", round(nn_rmse_var, 4))\n",
    "print(\"Conjunto de Prueba - R²:\", 0.8799)\n",
    "print(\"Conjunto de Prueba - RMSE:\", 2.5416)\n",
    "print(\"Conjunto de Prueba - % predicciones dentro de ±2 mpg:\", nn_within_2mpg)"
   ]
  },
  {
   "cell_type": "code",
   "execution_count": null,
   "id": "6a72a71e-5937-40e0-b8aa-e7e124b622f8",
   "metadata": {},
   "outputs": [],
   "source": [
    "print(\"\\n=== Random Forest ===\")\n",
    "print(\"R² promedio (5-fold):\", rf_r2_mean * 100)\n",
    "print(\"R² por fold:\", rf_r2_scores)\n",
    "print(\"Desviación estándar de R²:\", round(rf_r2_std, 4))\n",
    "print(\"Promedio de R²:\", round(rf_r2_mean, 4))\n",
    "print(\"Varianza de R²:\", round(rf_r2_var, 4))\n",
    "print(\"RMSE promedio (5-fold):\", rf_rmse_mean)\n",
    "print(\"RMSE por fold:\", rf_rmse_scores)\n",
    "print(\"Desviación estándar de RMSE:\", round(rf_rmse_std, 4))\n",
    "print(\"Promedio de RMSE:\", round(rf_rmse_mean, 4))\n",
    "print(\"Varianza de RMSE:\", round(rf_rmse_var, 4))\n",
    "print(\"Conjunto de Prueba - R²:\", 0.8967)\n",
    "print(\"Conjunto de Prueba - RMSE:\", 2.3569)\n",
    "print(\"Conjunto de Prueba - % predicciones dentro de ±2 mpg:\", rf_within_2mpg)"
   ]
  },
  {
   "cell_type": "markdown",
   "id": "d7feed80-dd78-4b1b-bc33-6094bbdd7948",
   "metadata": {},
   "source": [
    "## Gráfica de Dispersión"
   ]
  },
  {
   "cell_type": "code",
   "execution_count": null,
   "id": "ac9e9e4e-f9c7-4896-86d8-18bf02a830b0",
   "metadata": {},
   "outputs": [],
   "source": [
    "import matplotlib.pyplot as plt\n",
    "\n",
    "# Gráfica de dispersión\n",
    "plt.figure(figsize=(12, 5))\n",
    "\n",
    "# Red Neuronal\n",
    "plt.subplot(1, 2, 1)\n",
    "plt.scatter(y_test, y_pred_nn, color='blue', alpha=0.5)\n",
    "plt.plot([y_test.min(), y_test.max()], [y_test.min(), y_test.max()], 'r--', lw=2)\n",
    "plt.xlabel('Valores Reales (mpg)')\n",
    "plt.ylabel('Predicciones (mpg)')\n",
    "plt.title('Red Neuronal: Dispersión de Predicciones')\n",
    "plt.grid(True)\n",
    "\n",
    "# Random Forest\n",
    "plt.subplot(1, 2, 2)\n",
    "plt.scatter(y_test, y_pred_rf, color='green', alpha=0.5)\n",
    "plt.plot([y_test.min(), y_test.max()], [y_test.min(), y_test.max()], 'r--', lw=2)\n",
    "plt.xlabel('Valores Reales (mpg)')\n",
    "plt.ylabel('Predicciones (mpg)')\n",
    "plt.title('Random Forest: Dispersión de Predicciones')\n",
    "plt.grid(True)\n",
    "\n",
    "plt.tight_layout()\n",
    "plt.show()"
   ]
  },
  {
   "cell_type": "markdown",
   "id": "58ca3f4d-3937-4a69-9c36-c10f112ea13e",
   "metadata": {},
   "source": [
    "## Gráfica de Residuos"
   ]
  },
  {
   "cell_type": "code",
   "execution_count": null,
   "id": "07d6d4a7-f5f4-4414-86ad-bed49cbe2bf7",
   "metadata": {},
   "outputs": [],
   "source": [
    "import matplotlib.pyplot as plt\n",
    "\n",
    "# Residuos\n",
    "nn_residuals = y_test - y_pred_nn\n",
    "rf_residuals = y_test - y_pred_rf\n",
    "\n",
    "plt.figure(figsize=(12, 5))\n",
    "\n",
    "# Red Neuronal\n",
    "plt.subplot(1, 2, 1)\n",
    "plt.scatter(y_pred_nn, nn_residuals, color='blue', alpha=0.5)\n",
    "plt.axhline(y=0, color='r', linestyle='--')\n",
    "plt.xlabel('Predicciones (mpg)')\n",
    "plt.ylabel('Residuos')\n",
    "plt.title('Red Neuronal: Gráfica de Residuos')\n",
    "plt.grid(True)\n",
    "\n",
    "# Random Forest\n",
    "plt.subplot(1, 2, 2)\n",
    "plt.scatter(y_pred_rf, rf_residuals, color='green', alpha=0.5)\n",
    "plt.axhline(y=0, color='r', linestyle='--')\n",
    "plt.xlabel('Predicciones (mpg)')\n",
    "plt.ylabel('Residuos')\n",
    "plt.title('Random Forest: Gráfica de Residuos')\n",
    "plt.grid(True)\n",
    "\n",
    "plt.tight_layout()\n",
    "plt.show()"
   ]
  },
  {
   "cell_type": "code",
   "execution_count": null,
   "id": "6aff7e58-b99b-4c6f-a904-757f6ae09d47",
   "metadata": {},
   "outputs": [],
   "source": [
    "joblib.dump(rf_model, 'modelo_insectos.pkl')"
   ]
  }
 ],
 "metadata": {
  "kernelspec": {
   "display_name": "Python 3 (ipykernel)",
   "language": "python",
   "name": "python3"
  },
  "language_info": {
   "codemirror_mode": {
    "name": "ipython",
    "version": 3
   },
   "file_extension": ".py",
   "mimetype": "text/x-python",
   "name": "python",
   "nbconvert_exporter": "python",
   "pygments_lexer": "ipython3",
   "version": "3.13.2"
  }
 },
 "nbformat": 4,
 "nbformat_minor": 5
}
