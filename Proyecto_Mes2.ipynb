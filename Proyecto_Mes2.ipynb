{
 "cells": [
  {
   "cell_type": "code",
   "execution_count": 243,
   "id": "b6f72e88-4d00-446c-9f56-7481469a931f",
   "metadata": {},
   "outputs": [],
   "source": [
    "import pandas as pd\n",
    "import numpy as np\n",
    "from sklearn.feature_selection import RFE\n",
    "from sklearn.linear_model import LinearRegression\n",
    "from sklearn.tree import DecisionTreeRegressor\n",
    "from sklearn.model_selection import KFold, cross_val_score\n",
    "from sklearn.neural_network import MLPRegressor\n",
    "from sklearn.ensemble import RandomForestRegressor\n",
    "from sklearn.metrics import mean_squared_error, r2_score\n",
    "import seaborn as sns\n",
    "import matplotlib.pyplot as plt"
   ]
  },
  {
   "cell_type": "code",
   "execution_count": 244,
   "id": "1a0e4c6b-6e9a-4751-a92e-38bbcbb7f157",
   "metadata": {},
   "outputs": [
    {
     "data": {
      "text/html": [
       "<div>\n",
       "<style scoped>\n",
       "    .dataframe tbody tr th:only-of-type {\n",
       "        vertical-align: middle;\n",
       "    }\n",
       "\n",
       "    .dataframe tbody tr th {\n",
       "        vertical-align: top;\n",
       "    }\n",
       "\n",
       "    .dataframe thead th {\n",
       "        text-align: right;\n",
       "    }\n",
       "</style>\n",
       "<table border=\"1\" class=\"dataframe\">\n",
       "  <thead>\n",
       "    <tr style=\"text-align: right;\">\n",
       "      <th></th>\n",
       "      <th>mpg</th>\n",
       "      <th>cylinders</th>\n",
       "      <th>displacement</th>\n",
       "      <th>horsepower</th>\n",
       "      <th>weight</th>\n",
       "      <th>acceleration</th>\n",
       "      <th>model year</th>\n",
       "      <th>origin</th>\n",
       "      <th>car name</th>\n",
       "    </tr>\n",
       "  </thead>\n",
       "  <tbody>\n",
       "    <tr>\n",
       "      <th>0</th>\n",
       "      <td>18.0</td>\n",
       "      <td>8</td>\n",
       "      <td>307.0</td>\n",
       "      <td>130</td>\n",
       "      <td>3504</td>\n",
       "      <td>12.0</td>\n",
       "      <td>70</td>\n",
       "      <td>1</td>\n",
       "      <td>chevrolet chevelle malibu</td>\n",
       "    </tr>\n",
       "    <tr>\n",
       "      <th>1</th>\n",
       "      <td>15.0</td>\n",
       "      <td>8</td>\n",
       "      <td>350.0</td>\n",
       "      <td>165</td>\n",
       "      <td>3693</td>\n",
       "      <td>11.5</td>\n",
       "      <td>70</td>\n",
       "      <td>1</td>\n",
       "      <td>buick skylark 320</td>\n",
       "    </tr>\n",
       "    <tr>\n",
       "      <th>2</th>\n",
       "      <td>18.0</td>\n",
       "      <td>8</td>\n",
       "      <td>318.0</td>\n",
       "      <td>150</td>\n",
       "      <td>3436</td>\n",
       "      <td>11.0</td>\n",
       "      <td>70</td>\n",
       "      <td>1</td>\n",
       "      <td>plymouth satellite</td>\n",
       "    </tr>\n",
       "    <tr>\n",
       "      <th>3</th>\n",
       "      <td>16.0</td>\n",
       "      <td>8</td>\n",
       "      <td>304.0</td>\n",
       "      <td>150</td>\n",
       "      <td>3433</td>\n",
       "      <td>12.0</td>\n",
       "      <td>70</td>\n",
       "      <td>1</td>\n",
       "      <td>amc rebel sst</td>\n",
       "    </tr>\n",
       "    <tr>\n",
       "      <th>4</th>\n",
       "      <td>17.0</td>\n",
       "      <td>8</td>\n",
       "      <td>302.0</td>\n",
       "      <td>140</td>\n",
       "      <td>3449</td>\n",
       "      <td>10.5</td>\n",
       "      <td>70</td>\n",
       "      <td>1</td>\n",
       "      <td>ford torino</td>\n",
       "    </tr>\n",
       "  </tbody>\n",
       "</table>\n",
       "</div>"
      ],
      "text/plain": [
       "    mpg  cylinders  displacement horsepower  weight  acceleration  model year  \\\n",
       "0  18.0          8         307.0        130    3504          12.0          70   \n",
       "1  15.0          8         350.0        165    3693          11.5          70   \n",
       "2  18.0          8         318.0        150    3436          11.0          70   \n",
       "3  16.0          8         304.0        150    3433          12.0          70   \n",
       "4  17.0          8         302.0        140    3449          10.5          70   \n",
       "\n",
       "   origin                   car name  \n",
       "0       1  chevrolet chevelle malibu  \n",
       "1       1          buick skylark 320  \n",
       "2       1         plymouth satellite  \n",
       "3       1              amc rebel sst  \n",
       "4       1                ford torino  "
      ]
     },
     "execution_count": 244,
     "metadata": {},
     "output_type": "execute_result"
    }
   ],
   "source": [
    "df = pd.read_csv('auto-mpg.csv')\n",
    "df.head()"
   ]
  },
  {
   "cell_type": "code",
   "execution_count": 245,
   "id": "4e4078a5-96cf-49d9-9d81-70d47ccf59ff",
   "metadata": {},
   "outputs": [
    {
     "name": "stdout",
     "output_type": "stream",
     "text": [
      "<class 'pandas.core.frame.DataFrame'>\n",
      "RangeIndex: 398 entries, 0 to 397\n",
      "Data columns (total 9 columns):\n",
      " #   Column        Non-Null Count  Dtype  \n",
      "---  ------        --------------  -----  \n",
      " 0   mpg           398 non-null    float64\n",
      " 1   cylinders     398 non-null    int64  \n",
      " 2   displacement  398 non-null    float64\n",
      " 3   horsepower    398 non-null    object \n",
      " 4   weight        398 non-null    int64  \n",
      " 5   acceleration  398 non-null    float64\n",
      " 6   model year    398 non-null    int64  \n",
      " 7   origin        398 non-null    int64  \n",
      " 8   car name      398 non-null    object \n",
      "dtypes: float64(3), int64(4), object(2)\n",
      "memory usage: 28.1+ KB\n"
     ]
    }
   ],
   "source": [
    "df.info()"
   ]
  },
  {
   "cell_type": "markdown",
   "id": "31e0332e-a480-44d1-9b5a-9cd65162c0e3",
   "metadata": {},
   "source": [
    "### Verificar Valores Nulos"
   ]
  },
  {
   "cell_type": "code",
   "execution_count": 246,
   "id": "39f38248-46a0-4494-80c5-7e0fc8378e12",
   "metadata": {},
   "outputs": [
    {
     "data": {
      "text/plain": [
       "mpg             0\n",
       "cylinders       0\n",
       "displacement    0\n",
       "horsepower      0\n",
       "weight          0\n",
       "acceleration    0\n",
       "model year      0\n",
       "origin          0\n",
       "car name        0\n",
       "dtype: int64"
      ]
     },
     "execution_count": 246,
     "metadata": {},
     "output_type": "execute_result"
    }
   ],
   "source": [
    "# Verificar valores nulos\n",
    "df.isnull().sum()"
   ]
  },
  {
   "cell_type": "code",
   "execution_count": 247,
   "id": "e1f9d474-fc86-4b52-890d-90655eceaf04",
   "metadata": {},
   "outputs": [
    {
     "name": "stdout",
     "output_type": "stream",
     "text": [
      "\n",
      "Número de valores '?' en horsepower: 6\n"
     ]
    }
   ],
   "source": [
    "# Contar valores '?' en horsepower\n",
    "print(\"\\nNúmero de valores '?' en horsepower:\", (df['horsepower'] == '?').sum())"
   ]
  },
  {
   "cell_type": "markdown",
   "id": "4eaac020-00ad-497f-90a3-ae9607194c4a",
   "metadata": {},
   "source": [
    "### Remmplazar '?' con NaN y Convertir a Numerico"
   ]
  },
  {
   "cell_type": "code",
   "execution_count": 248,
   "id": "82fbd051-5703-4385-8f30-f0817fc0060d",
   "metadata": {},
   "outputs": [],
   "source": [
    "import numpy as np\n",
    "# Reemplazar '?' por NaN y convertir a numérico\n",
    "df['horsepower'] = df['horsepower'].replace('?', np.nan)\n",
    "df['horsepower'] = pd.to_numeric(df['horsepower'])"
   ]
  },
  {
   "cell_type": "code",
   "execution_count": 249,
   "id": "6cf66016-fde5-4c39-9b92-a4816c348ec9",
   "metadata": {},
   "outputs": [
    {
     "data": {
      "text/plain": [
       "mpg             0\n",
       "cylinders       0\n",
       "displacement    0\n",
       "horsepower      6\n",
       "weight          0\n",
       "acceleration    0\n",
       "model year      0\n",
       "origin          0\n",
       "car name        0\n",
       "dtype: int64"
      ]
     },
     "execution_count": 249,
     "metadata": {},
     "output_type": "execute_result"
    }
   ],
   "source": [
    "# Verificar valores nulos después de la conversión\n",
    "df.isnull().sum()"
   ]
  },
  {
   "cell_type": "code",
   "execution_count": 250,
   "id": "00b1a942-02fd-45d8-bb21-f7435792a8ab",
   "metadata": {},
   "outputs": [
    {
     "name": "stdout",
     "output_type": "stream",
     "text": [
      "\n",
      "Estadísticas de horsepower antes de la imputación:\n"
     ]
    },
    {
     "data": {
      "text/plain": [
       "count    392.000000\n",
       "mean     104.469388\n",
       "std       38.491160\n",
       "min       46.000000\n",
       "25%       75.000000\n",
       "50%       93.500000\n",
       "75%      126.000000\n",
       "max      230.000000\n",
       "Name: horsepower, dtype: float64"
      ]
     },
     "execution_count": 250,
     "metadata": {},
     "output_type": "execute_result"
    }
   ],
   "source": [
    "# Estadísticas descriptivas de horsepower\n",
    "print(\"\\nEstadísticas de horsepower antes de la imputación:\")\n",
    "df['horsepower'].describe()"
   ]
  },
  {
   "cell_type": "code",
   "execution_count": 251,
   "id": "bd3141f9-fde2-4ac9-8956-34aab454a7f8",
   "metadata": {},
   "outputs": [
    {
     "data": {
      "text/plain": [
       "mpg             0\n",
       "cylinders       0\n",
       "displacement    0\n",
       "horsepower      0\n",
       "weight          0\n",
       "acceleration    0\n",
       "model year      0\n",
       "origin          0\n",
       "car name        0\n",
       "dtype: int64"
      ]
     },
     "execution_count": 251,
     "metadata": {},
     "output_type": "execute_result"
    }
   ],
   "source": [
    "from sklearn.impute import SimpleImputer\n",
    "\n",
    "# Imputar valores nulos en horsepower con la mediana\n",
    "imputer = SimpleImputer(strategy='median')\n",
    "df['horsepower'] = imputer.fit_transform(df[['horsepower']])\n",
    "\n",
    "# Verificar valores nulos después de la imputación\n",
    "df.isnull().sum()"
   ]
  },
  {
   "cell_type": "markdown",
   "id": "b05e8780-564c-4de5-b9c8-12244b3c4f7e",
   "metadata": {},
   "source": [
    "Técnica elegida: SimpleImputer con mediana, porque:\n",
    "\n",
    "La mediana (93.5) es robusta frente a valores atípicos (máximo 230, sesgo moderado).\n",
    "Solo 6 valores faltantes (1.5%) justifican una imputación simple.\n",
    "La mediana es adecuada para la distribución sesgada de horsepower. Se resolvieron los 6 valores nulos originales."
   ]
  },
  {
   "cell_type": "code",
   "execution_count": 252,
   "id": "ba68c066-2ac7-4719-a718-b9dcb2e69a1b",
   "metadata": {},
   "outputs": [
    {
     "data": {
      "text/plain": [
       "mpg              0\n",
       "cylinders        0\n",
       "displacement     0\n",
       "horsepower       0\n",
       "weight          26\n",
       "acceleration     0\n",
       "model year       0\n",
       "origin           0\n",
       "car name         0\n",
       "dtype: int64"
      ]
     },
     "execution_count": 252,
     "metadata": {},
     "output_type": "execute_result"
    }
   ],
   "source": [
    "# Generar valores nulos en weight (5% de las filas)\n",
    "np.random.seed(42)  # Para reproducibilidad\n",
    "mask = np.random.choice([True, False], size=df.shape[0], p=[0.05, 0.95])\n",
    "df.loc[mask, 'weight'] = np.nan\n",
    "\n",
    "# Verificar valores nulos después de generarlos\n",
    "df.isnull().sum()"
   ]
  },
  {
   "cell_type": "code",
   "execution_count": 253,
   "id": "b0711cd1-3e6c-4370-8ac1-5e2fde08c32b",
   "metadata": {},
   "outputs": [
    {
     "name": "stdout",
     "output_type": "stream",
     "text": [
      "\n",
      "Estadísticas de weight antes de la imputación:\n"
     ]
    },
    {
     "data": {
      "text/plain": [
       "count     372.000000\n",
       "mean     2982.123656\n",
       "std       846.304174\n",
       "min      1613.000000\n",
       "25%      2233.000000\n",
       "50%      2831.500000\n",
       "75%      3614.750000\n",
       "max      5140.000000\n",
       "Name: weight, dtype: float64"
      ]
     },
     "execution_count": 253,
     "metadata": {},
     "output_type": "execute_result"
    }
   ],
   "source": [
    "# Estadísticas descriptivas de weight\n",
    "print(\"\\nEstadísticas de weight antes de la imputación:\")\n",
    "df['weight'].describe()"
   ]
  },
  {
   "cell_type": "code",
   "execution_count": 254,
   "id": "778beba9-d54a-4e6d-8ff5-1b73d6444fda",
   "metadata": {},
   "outputs": [
    {
     "name": "stdout",
     "output_type": "stream",
     "text": [
      "\n",
      "Valores nulos después de imputar weight:\n"
     ]
    },
    {
     "data": {
      "text/plain": [
       "mpg             0\n",
       "cylinders       0\n",
       "displacement    0\n",
       "horsepower      0\n",
       "weight          0\n",
       "acceleration    0\n",
       "model year      0\n",
       "origin          0\n",
       "car name        0\n",
       "dtype: int64"
      ]
     },
     "execution_count": 254,
     "metadata": {},
     "output_type": "execute_result"
    }
   ],
   "source": [
    "# Imputar valores nulos en weight\n",
    "imputer = SimpleImputer(strategy='median')\n",
    "df['weight'] = imputer.fit_transform(df[['weight']])\n",
    "\n",
    "# Verificar valores nulos\n",
    "print(\"\\nValores nulos después de imputar weight:\")\n",
    "df.isnull().sum()"
   ]
  },
  {
   "cell_type": "code",
   "execution_count": 255,
   "id": "9faaefd2-ebf8-4228-ba77-33981ec98b63",
   "metadata": {},
   "outputs": [
    {
     "data": {
      "text/plain": [
       "mpg             float64\n",
       "cylinders         int64\n",
       "displacement    float64\n",
       "horsepower      float64\n",
       "weight          float64\n",
       "acceleration    float64\n",
       "model year        int64\n",
       "origin            int64\n",
       "car name         object\n",
       "dtype: object"
      ]
     },
     "execution_count": 255,
     "metadata": {},
     "output_type": "execute_result"
    }
   ],
   "source": [
    "# Tipos de datos\n",
    "df.dtypes"
   ]
  },
  {
   "cell_type": "markdown",
   "id": "e96b28ea-f7dc-4b04-88d1-2647bccad4fe",
   "metadata": {},
   "source": [
    "## 2. Conversion de Atributos con OneHotEncoder"
   ]
  },
  {
   "cell_type": "code",
   "execution_count": 256,
   "id": "61628176-5ea3-4774-a392-ff46850743f3",
   "metadata": {},
   "outputs": [
    {
     "name": "stdout",
     "output_type": "stream",
     "text": [
      "\n",
      "Número de valores únicos en car name: 305\n",
      "\n",
      "Número de marcas únicas: 37\n",
      "\n",
      "Frecuencia de las 5 marcas más comunes:\n"
     ]
    },
    {
     "data": {
      "text/plain": [
       "brand\n",
       "ford         51\n",
       "chevrolet    43\n",
       "plymouth     31\n",
       "amc          28\n",
       "dodge        28\n",
       "Name: count, dtype: int64"
      ]
     },
     "execution_count": 256,
     "metadata": {},
     "output_type": "execute_result"
    }
   ],
   "source": [
    "# Número de valores únicos en car name\n",
    "print(\"\\nNúmero de valores únicos en car name:\", df['car name'].nunique())\n",
    "\n",
    "# Extraer la marca\n",
    "df['brand'] = df['car name'].apply(lambda x: x.split()[0])\n",
    "\n",
    "# Verificar marcas\n",
    "print(\"\\nNúmero de marcas únicas:\", df['brand'].nunique())\n",
    "print(\"\\nFrecuencia de las 5 marcas más comunes:\")\n",
    "df['brand'].value_counts().head()"
   ]
  },
  {
   "cell_type": "code",
   "execution_count": 257,
   "id": "100c5417-4268-4cb6-a173-c9059d760bd2",
   "metadata": {},
   "outputs": [
    {
     "name": "stdout",
     "output_type": "stream",
     "text": [
      "\n",
      "Primeras filas después de codificar brand:\n"
     ]
    },
    {
     "data": {
      "text/html": [
       "<div>\n",
       "<style scoped>\n",
       "    .dataframe tbody tr th:only-of-type {\n",
       "        vertical-align: middle;\n",
       "    }\n",
       "\n",
       "    .dataframe tbody tr th {\n",
       "        vertical-align: top;\n",
       "    }\n",
       "\n",
       "    .dataframe thead th {\n",
       "        text-align: right;\n",
       "    }\n",
       "</style>\n",
       "<table border=\"1\" class=\"dataframe\">\n",
       "  <thead>\n",
       "    <tr style=\"text-align: right;\">\n",
       "      <th></th>\n",
       "      <th>mpg</th>\n",
       "      <th>cylinders</th>\n",
       "      <th>displacement</th>\n",
       "      <th>horsepower</th>\n",
       "      <th>weight</th>\n",
       "      <th>acceleration</th>\n",
       "      <th>model year</th>\n",
       "      <th>origin</th>\n",
       "      <th>brand_amc</th>\n",
       "      <th>brand_audi</th>\n",
       "      <th>...</th>\n",
       "      <th>brand_renault</th>\n",
       "      <th>brand_saab</th>\n",
       "      <th>brand_subaru</th>\n",
       "      <th>brand_toyota</th>\n",
       "      <th>brand_toyouta</th>\n",
       "      <th>brand_triumph</th>\n",
       "      <th>brand_vokswagen</th>\n",
       "      <th>brand_volkswagen</th>\n",
       "      <th>brand_volvo</th>\n",
       "      <th>brand_vw</th>\n",
       "    </tr>\n",
       "  </thead>\n",
       "  <tbody>\n",
       "    <tr>\n",
       "      <th>0</th>\n",
       "      <td>18.0</td>\n",
       "      <td>8</td>\n",
       "      <td>307.0</td>\n",
       "      <td>130.0</td>\n",
       "      <td>3504.0</td>\n",
       "      <td>12.0</td>\n",
       "      <td>70</td>\n",
       "      <td>1</td>\n",
       "      <td>0.0</td>\n",
       "      <td>0.0</td>\n",
       "      <td>...</td>\n",
       "      <td>0.0</td>\n",
       "      <td>0.0</td>\n",
       "      <td>0.0</td>\n",
       "      <td>0.0</td>\n",
       "      <td>0.0</td>\n",
       "      <td>0.0</td>\n",
       "      <td>0.0</td>\n",
       "      <td>0.0</td>\n",
       "      <td>0.0</td>\n",
       "      <td>0.0</td>\n",
       "    </tr>\n",
       "    <tr>\n",
       "      <th>1</th>\n",
       "      <td>15.0</td>\n",
       "      <td>8</td>\n",
       "      <td>350.0</td>\n",
       "      <td>165.0</td>\n",
       "      <td>3693.0</td>\n",
       "      <td>11.5</td>\n",
       "      <td>70</td>\n",
       "      <td>1</td>\n",
       "      <td>0.0</td>\n",
       "      <td>0.0</td>\n",
       "      <td>...</td>\n",
       "      <td>0.0</td>\n",
       "      <td>0.0</td>\n",
       "      <td>0.0</td>\n",
       "      <td>0.0</td>\n",
       "      <td>0.0</td>\n",
       "      <td>0.0</td>\n",
       "      <td>0.0</td>\n",
       "      <td>0.0</td>\n",
       "      <td>0.0</td>\n",
       "      <td>0.0</td>\n",
       "    </tr>\n",
       "    <tr>\n",
       "      <th>2</th>\n",
       "      <td>18.0</td>\n",
       "      <td>8</td>\n",
       "      <td>318.0</td>\n",
       "      <td>150.0</td>\n",
       "      <td>3436.0</td>\n",
       "      <td>11.0</td>\n",
       "      <td>70</td>\n",
       "      <td>1</td>\n",
       "      <td>0.0</td>\n",
       "      <td>0.0</td>\n",
       "      <td>...</td>\n",
       "      <td>0.0</td>\n",
       "      <td>0.0</td>\n",
       "      <td>0.0</td>\n",
       "      <td>0.0</td>\n",
       "      <td>0.0</td>\n",
       "      <td>0.0</td>\n",
       "      <td>0.0</td>\n",
       "      <td>0.0</td>\n",
       "      <td>0.0</td>\n",
       "      <td>0.0</td>\n",
       "    </tr>\n",
       "    <tr>\n",
       "      <th>3</th>\n",
       "      <td>16.0</td>\n",
       "      <td>8</td>\n",
       "      <td>304.0</td>\n",
       "      <td>150.0</td>\n",
       "      <td>3433.0</td>\n",
       "      <td>12.0</td>\n",
       "      <td>70</td>\n",
       "      <td>1</td>\n",
       "      <td>1.0</td>\n",
       "      <td>0.0</td>\n",
       "      <td>...</td>\n",
       "      <td>0.0</td>\n",
       "      <td>0.0</td>\n",
       "      <td>0.0</td>\n",
       "      <td>0.0</td>\n",
       "      <td>0.0</td>\n",
       "      <td>0.0</td>\n",
       "      <td>0.0</td>\n",
       "      <td>0.0</td>\n",
       "      <td>0.0</td>\n",
       "      <td>0.0</td>\n",
       "    </tr>\n",
       "    <tr>\n",
       "      <th>4</th>\n",
       "      <td>17.0</td>\n",
       "      <td>8</td>\n",
       "      <td>302.0</td>\n",
       "      <td>140.0</td>\n",
       "      <td>3449.0</td>\n",
       "      <td>10.5</td>\n",
       "      <td>70</td>\n",
       "      <td>1</td>\n",
       "      <td>0.0</td>\n",
       "      <td>0.0</td>\n",
       "      <td>...</td>\n",
       "      <td>0.0</td>\n",
       "      <td>0.0</td>\n",
       "      <td>0.0</td>\n",
       "      <td>0.0</td>\n",
       "      <td>0.0</td>\n",
       "      <td>0.0</td>\n",
       "      <td>0.0</td>\n",
       "      <td>0.0</td>\n",
       "      <td>0.0</td>\n",
       "      <td>0.0</td>\n",
       "    </tr>\n",
       "  </tbody>\n",
       "</table>\n",
       "<p>5 rows × 45 columns</p>\n",
       "</div>"
      ],
      "text/plain": [
       "    mpg  cylinders  displacement  horsepower  weight  acceleration  \\\n",
       "0  18.0          8         307.0       130.0  3504.0          12.0   \n",
       "1  15.0          8         350.0       165.0  3693.0          11.5   \n",
       "2  18.0          8         318.0       150.0  3436.0          11.0   \n",
       "3  16.0          8         304.0       150.0  3433.0          12.0   \n",
       "4  17.0          8         302.0       140.0  3449.0          10.5   \n",
       "\n",
       "   model year  origin  brand_amc  brand_audi  ...  brand_renault  brand_saab  \\\n",
       "0          70       1        0.0         0.0  ...            0.0         0.0   \n",
       "1          70       1        0.0         0.0  ...            0.0         0.0   \n",
       "2          70       1        0.0         0.0  ...            0.0         0.0   \n",
       "3          70       1        1.0         0.0  ...            0.0         0.0   \n",
       "4          70       1        0.0         0.0  ...            0.0         0.0   \n",
       "\n",
       "   brand_subaru  brand_toyota  brand_toyouta  brand_triumph  brand_vokswagen  \\\n",
       "0           0.0           0.0            0.0            0.0              0.0   \n",
       "1           0.0           0.0            0.0            0.0              0.0   \n",
       "2           0.0           0.0            0.0            0.0              0.0   \n",
       "3           0.0           0.0            0.0            0.0              0.0   \n",
       "4           0.0           0.0            0.0            0.0              0.0   \n",
       "\n",
       "   brand_volkswagen  brand_volvo  brand_vw  \n",
       "0               0.0          0.0       0.0  \n",
       "1               0.0          0.0       0.0  \n",
       "2               0.0          0.0       0.0  \n",
       "3               0.0          0.0       0.0  \n",
       "4               0.0          0.0       0.0  \n",
       "\n",
       "[5 rows x 45 columns]"
      ]
     },
     "execution_count": 257,
     "metadata": {},
     "output_type": "execute_result"
    }
   ],
   "source": [
    "from sklearn.preprocessing import OneHotEncoder\n",
    "\n",
    "# Codificar brand\n",
    "encoder = OneHotEncoder(sparse_output=False, handle_unknown='ignore')\n",
    "brand_encoded = encoder.fit_transform(df[['brand']])\n",
    "brand_encoded_df = pd.DataFrame(brand_encoded, columns=encoder.get_feature_names_out(['brand']))\n",
    "\n",
    "# Concatenar y eliminar columnas\n",
    "df = pd.concat([df, brand_encoded_df], axis=1)\n",
    "df = df.drop(['brand', 'car name'], axis=1)\n",
    "\n",
    "# Mostrar primeras filas\n",
    "print(\"\\nPrimeras filas después de codificar brand:\")\n",
    "df.head()"
   ]
  },
  {
   "cell_type": "code",
   "execution_count": 258,
   "id": "2dcb08fc-f8c9-440d-aa53-4224663422d1",
   "metadata": {},
   "outputs": [
    {
     "name": "stdout",
     "output_type": "stream",
     "text": [
      "\n",
      "Valores únicos en origin: [1 3 2]\n"
     ]
    }
   ],
   "source": [
    "# Valores únicos en origin\n",
    "print(\"\\nValores únicos en origin:\", df['origin'].unique())"
   ]
  },
  {
   "cell_type": "markdown",
   "id": "cc28f31e-36b5-45d1-8968-a182628ba083",
   "metadata": {},
   "source": [
    "## 3. Esacalado de Atributos con StandardScaler"
   ]
  },
  {
   "cell_type": "code",
   "execution_count": 259,
   "id": "95024ed2-09f2-45cc-9875-04242b46305a",
   "metadata": {},
   "outputs": [
    {
     "name": "stdout",
     "output_type": "stream",
     "text": [
      "\n",
      "Estadísticas descriptivas de las columnas numéricas:\n",
      "\n",
      "Sesgo (skewness):\n"
     ]
    },
    {
     "data": {
      "text/plain": [
       "mpg             0.457066\n",
       "cylinders       0.526922\n",
       "displacement    0.719645\n",
       "horsepower      1.106224\n",
       "weight          0.567646\n",
       "acceleration    0.278777\n",
       "model year      0.011535\n",
       "origin          0.923776\n",
       "dtype: float64"
      ]
     },
     "execution_count": 259,
     "metadata": {},
     "output_type": "execute_result"
    }
   ],
   "source": [
    "num_cols = ['mpg', 'cylinders', 'displacement', 'horsepower', 'weight', 'acceleration', 'model year', 'origin']\n",
    "print(\"\\nEstadísticas descriptivas de las columnas numéricas:\")\n",
    "df[num_cols].describe()\n",
    "\n",
    "print(\"\\nSesgo (skewness):\")\n",
    "df[num_cols].skew()"
   ]
  },
  {
   "cell_type": "code",
   "execution_count": 260,
   "id": "2d3dde82-a906-4f56-8e6f-d61aab2ed00c",
   "metadata": {},
   "outputs": [
    {
     "name": "stdout",
     "output_type": "stream",
     "text": [
      "\n",
      "Estadísticas después de StandardScaler:\n"
     ]
    },
    {
     "data": {
      "text/html": [
       "<div>\n",
       "<style scoped>\n",
       "    .dataframe tbody tr th:only-of-type {\n",
       "        vertical-align: middle;\n",
       "    }\n",
       "\n",
       "    .dataframe tbody tr th {\n",
       "        vertical-align: top;\n",
       "    }\n",
       "\n",
       "    .dataframe thead th {\n",
       "        text-align: right;\n",
       "    }\n",
       "</style>\n",
       "<table border=\"1\" class=\"dataframe\">\n",
       "  <thead>\n",
       "    <tr style=\"text-align: right;\">\n",
       "      <th></th>\n",
       "      <th>cylinders</th>\n",
       "      <th>displacement</th>\n",
       "      <th>horsepower</th>\n",
       "      <th>weight</th>\n",
       "      <th>acceleration</th>\n",
       "      <th>model year</th>\n",
       "      <th>origin</th>\n",
       "    </tr>\n",
       "  </thead>\n",
       "  <tbody>\n",
       "    <tr>\n",
       "      <th>count</th>\n",
       "      <td>3.980000e+02</td>\n",
       "      <td>3.980000e+02</td>\n",
       "      <td>3.980000e+02</td>\n",
       "      <td>3.980000e+02</td>\n",
       "      <td>3.980000e+02</td>\n",
       "      <td>3.980000e+02</td>\n",
       "      <td>3.980000e+02</td>\n",
       "    </tr>\n",
       "    <tr>\n",
       "      <th>mean</th>\n",
       "      <td>-3.570567e-17</td>\n",
       "      <td>-1.785283e-17</td>\n",
       "      <td>-7.141133e-17</td>\n",
       "      <td>-7.141133e-17</td>\n",
       "      <td>-2.677925e-16</td>\n",
       "      <td>-1.642461e-15</td>\n",
       "      <td>-5.355850e-17</td>\n",
       "    </tr>\n",
       "    <tr>\n",
       "      <th>std</th>\n",
       "      <td>1.001259e+00</td>\n",
       "      <td>1.001259e+00</td>\n",
       "      <td>1.001259e+00</td>\n",
       "      <td>1.001259e+00</td>\n",
       "      <td>1.001259e+00</td>\n",
       "      <td>1.001259e+00</td>\n",
       "      <td>1.001259e+00</td>\n",
       "    </tr>\n",
       "    <tr>\n",
       "      <th>min</th>\n",
       "      <td>-1.444949e+00</td>\n",
       "      <td>-1.204411e+00</td>\n",
       "      <td>-1.527300e+00</td>\n",
       "      <td>-1.661836e+00</td>\n",
       "      <td>-2.747814e+00</td>\n",
       "      <td>-1.627426e+00</td>\n",
       "      <td>-7.151448e-01</td>\n",
       "    </tr>\n",
       "    <tr>\n",
       "      <th>25%</th>\n",
       "      <td>-8.563206e-01</td>\n",
       "      <td>-8.563178e-01</td>\n",
       "      <td>-7.414364e-01</td>\n",
       "      <td>-8.647126e-01</td>\n",
       "      <td>-6.328794e-01</td>\n",
       "      <td>-8.150739e-01</td>\n",
       "      <td>-7.151448e-01</td>\n",
       "    </tr>\n",
       "    <tr>\n",
       "      <th>50%</th>\n",
       "      <td>-8.563206e-01</td>\n",
       "      <td>-4.314040e-01</td>\n",
       "      <td>-2.830161e-01</td>\n",
       "      <td>-1.721199e-01</td>\n",
       "      <td>-2.472221e-02</td>\n",
       "      <td>-2.721449e-03</td>\n",
       "      <td>-7.151448e-01</td>\n",
       "    </tr>\n",
       "    <tr>\n",
       "      <th>75%</th>\n",
       "      <td>1.498191e+00</td>\n",
       "      <td>6.584879e-01</td>\n",
       "      <td>5.421404e-01</td>\n",
       "      <td>6.742125e-01</td>\n",
       "      <td>5.834349e-01</td>\n",
       "      <td>8.096310e-01</td>\n",
       "      <td>5.332220e-01</td>\n",
       "    </tr>\n",
       "    <tr>\n",
       "      <th>max</th>\n",
       "      <td>1.498191e+00</td>\n",
       "      <td>2.511784e+00</td>\n",
       "      <td>3.292662e+00</td>\n",
       "      <td>2.650211e+00</td>\n",
       "      <td>3.351912e+00</td>\n",
       "      <td>1.621983e+00</td>\n",
       "      <td>1.781589e+00</td>\n",
       "    </tr>\n",
       "  </tbody>\n",
       "</table>\n",
       "</div>"
      ],
      "text/plain": [
       "          cylinders  displacement    horsepower        weight  acceleration  \\\n",
       "count  3.980000e+02  3.980000e+02  3.980000e+02  3.980000e+02  3.980000e+02   \n",
       "mean  -3.570567e-17 -1.785283e-17 -7.141133e-17 -7.141133e-17 -2.677925e-16   \n",
       "std    1.001259e+00  1.001259e+00  1.001259e+00  1.001259e+00  1.001259e+00   \n",
       "min   -1.444949e+00 -1.204411e+00 -1.527300e+00 -1.661836e+00 -2.747814e+00   \n",
       "25%   -8.563206e-01 -8.563178e-01 -7.414364e-01 -8.647126e-01 -6.328794e-01   \n",
       "50%   -8.563206e-01 -4.314040e-01 -2.830161e-01 -1.721199e-01 -2.472221e-02   \n",
       "75%    1.498191e+00  6.584879e-01  5.421404e-01  6.742125e-01  5.834349e-01   \n",
       "max    1.498191e+00  2.511784e+00  3.292662e+00  2.650211e+00  3.351912e+00   \n",
       "\n",
       "         model year        origin  \n",
       "count  3.980000e+02  3.980000e+02  \n",
       "mean  -1.642461e-15 -5.355850e-17  \n",
       "std    1.001259e+00  1.001259e+00  \n",
       "min   -1.627426e+00 -7.151448e-01  \n",
       "25%   -8.150739e-01 -7.151448e-01  \n",
       "50%   -2.721449e-03 -7.151448e-01  \n",
       "75%    8.096310e-01  5.332220e-01  \n",
       "max    1.621983e+00  1.781589e+00  "
      ]
     },
     "execution_count": 260,
     "metadata": {},
     "output_type": "execute_result"
    }
   ],
   "source": [
    "from sklearn.preprocessing import StandardScaler\n",
    "\n",
    "# Escalar columnas numéricas (excepto mpg y brand_*)\n",
    "num_cols_to_scale = ['cylinders', 'displacement', 'horsepower', 'weight', 'acceleration', 'model year', 'origin']\n",
    "scaler = StandardScaler()\n",
    "df[num_cols_to_scale] = scaler.fit_transform(df[num_cols_to_scale])\n",
    "\n",
    "# Mostrar estadísticas\n",
    "print(\"\\nEstadísticas después de StandardScaler:\")\n",
    "df[num_cols_to_scale].describe()"
   ]
  },
  {
   "cell_type": "markdown",
   "id": "3b92f931-dcd6-4615-873b-d08ee89ab5ca",
   "metadata": {},
   "source": [
    " ## 4. Seleccion de Atributos"
   ]
  },
  {
   "cell_type": "code",
   "execution_count": 261,
   "id": "de0396b6-53ef-4a7c-bc35-67c7142cb33b",
   "metadata": {},
   "outputs": [
    {
     "name": "stdout",
     "output_type": "stream",
     "text": [
      "\n",
      "Dimensiones de X: (398, 44)\n"
     ]
    }
   ],
   "source": [
    "# Separar X e y\n",
    "X = df.drop('mpg', axis=1)\n",
    "y = df['mpg']\n",
    "print(\"\\nDimensiones de X:\", X.shape)  # (398, 41)"
   ]
  },
  {
   "cell_type": "code",
   "execution_count": 262,
   "id": "96c735f2-68a6-45a3-b468-d6efb7717272",
   "metadata": {},
   "outputs": [
    {
     "data": {
      "image/png": "[encoded data removed]",
      "text/plain": [
       "<Figure size 1000x800 with 2 Axes>"
      ]
     },
     "metadata": {},
     "output_type": "display_data"
    },
    {
     "name": "stdout",
     "output_type": "stream",
     "text": [
      "\n",
      "Correlaciones con mpg:\n",
      "mpg             1.000000\n",
      "model year      0.579267\n",
      "origin          0.563450\n",
      "acceleration    0.420289\n",
      "horsepower     -0.773453\n",
      "cylinders      -0.775396\n",
      "weight         -0.796896\n",
      "displacement   -0.804203\n",
      "Name: mpg, dtype: float64\n"
     ]
    }
   ],
   "source": [
    "# Columnas numéricas + mpg\n",
    "num_cols = ['mpg', 'cylinders', 'displacement', 'horsepower', 'weight', 'acceleration', 'model year', 'origin']\n",
    "corr_matrix = df[num_cols].corr()\n",
    "\n",
    "# Visualizar matriz de correlación\n",
    "plt.figure(figsize=(10, 8))\n",
    "sns.heatmap(corr_matrix, annot=True, cmap='coolwarm', vmin=-1, vmax=1, center=0)\n",
    "plt.title('Matriz de Correlación')\n",
    "plt.show()\n",
    "\n",
    "# Correlaciones con mpg\n",
    "print(\"\\nCorrelaciones con mpg:\")\n",
    "print(corr_matrix['mpg'].sort_values(ascending=False))"
   ]
  },
  {
   "cell_type": "markdown",
   "id": "a837072e-0131-4808-8b86-9cb303a3cb4a",
   "metadata": {},
   "source": []
  },
  {
   "cell_type": "code",
   "execution_count": 263,
   "id": "923ef39c-7d6c-4e70-bf7b-64691de3c019",
   "metadata": {},
   "outputs": [
    {
     "name": "stdout",
     "output_type": "stream",
     "text": [
      "\n",
      "Ranking de características (RFE, 6 atributos):\n",
      "           Feature  Ranking  Selected\n",
      "3           weight        1      True\n",
      "28    brand_nissan        1      True\n",
      "22     brand_honda        1      True\n",
      "17    brand_datsun        1      True\n",
      "43        brand_vw        1      True\n",
      "39   brand_triumph        1      True\n",
      "34   brand_renault        2     False\n",
      "5       model year        3     False\n",
      "11  brand_cadillac        4     False\n",
      "23     brand_maxda        5     False\n",
      "\n",
      "Atributos seleccionados por RFE: ['weight', 'brand_datsun', 'brand_honda', 'brand_nissan', 'brand_triumph', 'brand_vw']\n"
     ]
    }
   ],
   "source": [
    "# Modelo base\n",
    "model = LinearRegression()\n",
    "\n",
    "# RFE para 6 atributos\n",
    "rfe = RFE(estimator=model, n_features_to_select=6)\n",
    "rfe.fit(X, y)\n",
    "\n",
    "# Ranking y selección\n",
    "rfe_ranking = pd.DataFrame({'Feature': X.columns, 'Ranking': rfe.ranking_, 'Selected': rfe.support_})\n",
    "print(\"\\nRanking de características (RFE, 6 atributos):\")\n",
    "print(rfe_ranking.sort_values(by='Ranking').head(10))\n",
    "\n",
    "# Características seleccionadas\n",
    "selected_features_rfe = X.columns[rfe.support_].tolist()\n",
    "print(\"\\nAtributos seleccionados por RFE:\", selected_features_rfe)"
   ]
  },
  {
   "cell_type": "code",
   "execution_count": 264,
   "id": "fe9d1f64-a5f7-4919-a1d2-d0fc99c04272",
   "metadata": {},
   "outputs": [
    {
     "name": "stdout",
     "output_type": "stream",
     "text": [
      "\n",
      "Importancia de características (Árbol de Decisión):\n",
      "            Feature  Importance\n",
      "1      displacement    0.598853\n",
      "2        horsepower    0.170475\n",
      "5        model year    0.109444\n",
      "3            weight    0.073291\n",
      "4      acceleration    0.021412\n",
      "43         brand_vw    0.007851\n",
      "6            origin    0.006482\n",
      "0         cylinders    0.003536\n",
      "24      brand_mazda    0.002487\n",
      "14  brand_chevrolet    0.000935\n",
      "\n",
      "Atributos seleccionados por Árbol de Decisión: ['displacement', 'horsepower', 'model year', 'weight', 'acceleration', 'brand_vw']\n"
     ]
    }
   ],
   "source": [
    "# Árbol de decisión\n",
    "tree = DecisionTreeRegressor(random_state=42)\n",
    "tree.fit(X, y)\n",
    "\n",
    "# Importancia de características\n",
    "feature_importance = pd.DataFrame({'Feature': X.columns, 'Importance': tree.feature_importances_})\n",
    "print(\"\\nImportancia de características (Árbol de Decisión):\")\n",
    "print(feature_importance.sort_values(by='Importance', ascending=False).head(10))\n",
    "\n",
    "# Top 6\n",
    "top_features_tree = feature_importance.nlargest(6, 'Importance')['Feature'].tolist()\n",
    "print(\"\\nAtributos seleccionados por Árbol de Decisión:\", top_features_tree)"
   ]
  },
  {
   "cell_type": "code",
   "execution_count": 265,
   "id": "aa5f5b7e-dc41-4f02-8452-a99f64e5e3a5",
   "metadata": {},
   "outputs": [
    {
     "name": "stdout",
     "output_type": "stream",
     "text": [
      "\n",
      "Dimensiones de X_selected: (398, 5)\n"
     ]
    }
   ],
   "source": [
    "# Seleccionar atributos\n",
    "selected_features = ['weight', 'horsepower', 'model year', 'acceleration', 'brand_vw']\n",
    "X_selected = X[selected_features]\n",
    "print(\"\\nDimensiones de X_selected:\", X_selected.shape)  # (398, 5)"
   ]
  },
  {
   "cell_type": "markdown",
   "id": "6b6b62bd-2dd2-44aa-ac0b-3895bf88ef5c",
   "metadata": {},
   "source": [
    "# Modelado"
   ]
  },
  {
   "cell_type": "code",
   "execution_count": 266,
   "id": "955f0e47-837a-4d2d-9f88-72773e4c0d1f",
   "metadata": {},
   "outputs": [
    {
     "name": "stdout",
     "output_type": "stream",
     "text": [
      "Dimensiones de X_selected: (398, 5)\n",
      "Primeras filas de X_selected:\n",
      "      weight  horsepower  model year  acceleration  brand_vw\n",
      "0  0.650067    0.673118   -1.627426     -1.295498       0.0\n",
      "1  0.881135    1.589958   -1.627426     -1.477038       0.0\n",
      "2  0.566931    1.197027   -1.627426     -1.658577       0.0\n",
      "3  0.563263    1.197027   -1.627426     -1.295498       0.0\n",
      "4  0.582825    0.935072   -1.627426     -1.840117       0.0\n",
      "Primeras filas de y:\n",
      " 0    18.0\n",
      "1    15.0\n",
      "2    18.0\n",
      "3    16.0\n",
      "4    17.0\n",
      "Name: mpg, dtype: float64\n"
     ]
    }
   ],
   "source": [
    "# Asumimos X_selected y y ya definidos\n",
    "print(\"Dimensiones de X_selected:\", X_selected.shape)  # (398, 5)\n",
    "print(\"Primeras filas de X_selected:\\n\", X_selected.head())\n",
    "print(\"Primeras filas de y:\\n\", y.head())"
   ]
  },
  {
   "cell_type": "code",
   "execution_count": 267,
   "id": "e9c18fe9-8a24-455b-a8ec-5da53624b3ff",
   "metadata": {},
   "outputs": [
    {
     "name": "stdout",
     "output_type": "stream",
     "text": [
      "\n",
      "Red Neuronal (MLPRegressor) - Resultados de Validación Cruzada (k=5):\n",
      "R² - Media: 0.8494, Desviación Estándar: 0.0200, Varianza: 0.0004\n",
      "RMSE - Media: 3.0154, Desviación Estándar: 0.3185, Varianza: 0.1014\n"
     ]
    }
   ],
   "source": [
    "# Configurar red neuronal\n",
    "nn_model = MLPRegressor(hidden_layer_sizes=(100, 50), activation='relu', solver='adam', \n",
    "                        max_iter=1000, random_state=42, early_stopping=True, validation_fraction=0.1)\n",
    "\n",
    "# K-Fold Cross-Validation (k=5)\n",
    "kf = KFold(n_splits=5, shuffle=True, random_state=42)\n",
    "\n",
    "# R²\n",
    "nn_r2_scores = cross_val_score(nn_model, X_selected, y, cv=kf, scoring='r2')\n",
    "nn_r2_mean = nn_r2_scores.mean()\n",
    "nn_r2_std = nn_r2_scores.std()\n",
    "nn_r2_var = nn_r2_std ** 2\n",
    "\n",
    "# RMSE\n",
    "nn_rmse_scores = np.sqrt(-cross_val_score(nn_model, X_selected, y, cv=kf, scoring='neg_mean_squared_error'))\n",
    "nn_rmse_mean = nn_rmse_scores.mean()\n",
    "nn_rmse_std = nn_rmse_scores.std()\n",
    "nn_rmse_var = nn_rmse_std ** 2\n",
    "\n",
    "print(\"\\nRed Neuronal (MLPRegressor) - Resultados de Validación Cruzada (k=5):\")\n",
    "print(f\"R² - Media: {nn_r2_mean:.4f}, Desviación Estándar: {nn_r2_std:.4f}, Varianza: {nn_r2_var:.4f}\")\n",
    "print(f\"RMSE - Media: {nn_rmse_mean:.4f}, Desviación Estándar: {nn_rmse_std:.4f}, Varianza: {nn_rmse_var:.4f}\")"
   ]
  },
  {
   "cell_type": "code",
   "execution_count": 268,
   "id": "59f8f469-723a-4727-bee4-746a687743b8",
   "metadata": {},
   "outputs": [
    {
     "name": "stdout",
     "output_type": "stream",
     "text": [
      "\n",
      "Random Forest Regressor - Resultados de Validación Cruzada (k=5):\n",
      "R² - Media: 0.8579, Desviación Estándar: 0.0347, Varianza: 0.0012\n",
      "RMSE - Media: 2.9167, Desviación Estándar: 0.4258, Varianza: 0.1813\n"
     ]
    }
   ],
   "source": [
    "# Configurar Random Forest\n",
    "rf_model = RandomForestRegressor(n_estimators=100, random_state=42)\n",
    "\n",
    "# R²\n",
    "rf_r2_scores = cross_val_score(rf_model, X_selected, y, cv=kf, scoring='r2')\n",
    "rf_r2_mean = rf_r2_scores.mean()\n",
    "rf_r2_std = rf_r2_scores.std()\n",
    "rf_r2_var = rf_r2_std ** 2\n",
    "\n",
    "# RMSE\n",
    "rf_rmse_scores = np.sqrt(-cross_val_score(rf_model, X_selected, y, cv=kf, scoring='neg_mean_squared_error'))\n",
    "rf_rmse_mean = rf_rmse_scores.mean()\n",
    "rf_rmse_std = rf_rmse_scores.std()\n",
    "rf_rmse_var = rf_rmse_std ** 2\n",
    "\n",
    "print(\"\\nRandom Forest Regressor - Resultados de Validación Cruzada (k=5):\")\n",
    "print(f\"R² - Media: {rf_r2_mean:.4f}, Desviación Estándar: {rf_r2_std:.4f}, Varianza: {rf_r2_var:.4f}\")\n",
    "print(f\"RMSE - Media: {rf_rmse_mean:.4f}, Desviación Estándar: {rf_rmse_std:.4f}, Varianza: {rf_rmse_var:.4f}\")"
   ]
  },
  {
   "cell_type": "code",
   "execution_count": 269,
   "id": "d86eb816-639c-4abc-acbf-897336e06d38",
   "metadata": {},
   "outputs": [],
   "source": [
    "from sklearn.model_selection import train_test_split\n",
    "\n",
    "# Dividir datos\n",
    "X_train, X_test, y_train, y_test = train_test_split(X_selected, y, test_size=0.2, random_state=42)"
   ]
  },
  {
   "cell_type": "code",
   "execution_count": 270,
   "id": "1dfa3195-1cca-4a34-a85a-a1fa751a4c50",
   "metadata": {},
   "outputs": [
    {
     "name": "stdout",
     "output_type": "stream",
     "text": [
      "\n",
      "Métricas en conjunto de prueba:\n",
      "Red Neuronal - R²: 0.8799, RMSE: 2.5416\n",
      "Random Forest - R²: 0.8967, RMSE: 2.3569\n"
     ]
    }
   ],
   "source": [
    "# Entrenar Red Neuronal\n",
    "nn_model.fit(X_train, y_train)\n",
    "y_pred_nn = nn_model.predict(X_test)\n",
    "\n",
    "# Entrenar Random Forest\n",
    "rf_model.fit(X_train, y_train)\n",
    "y_pred_rf = rf_model.predict(X_test)\n",
    "\n",
    "# Métricas en conjunto de prueba\n",
    "nn_r2_test = r2_score(y_test, y_pred_nn)\n",
    "nn_rmse_test = np.sqrt(mean_squared_error(y_test, y_pred_nn)) \n",
    "rf_r2_test = r2_score(y_test, y_pred_rf)\n",
    "rf_rmse_test = np.sqrt(mean_squared_error(y_test, y_pred_rf))  \n",
    "\n",
    "print(\"\\nMétricas en conjunto de prueba:\")\n",
    "print(f\"Red Neuronal - R²: {nn_r2_test:.4f}, RMSE: {nn_rmse_test:.4f}\")\n",
    "print(f\"Random Forest - R²: {rf_r2_test:.4f}, RMSE: {rf_rmse_test:.4f}\")"
   ]
  },
  {
   "cell_type": "code",
   "execution_count": 273,
   "id": "9e279cce-63b8-4534-a4b0-397bb7cc91cb",
   "metadata": {},
   "outputs": [],
   "source": [
    "# === Porcentaje dentro de ±2 mpg (Conjunto de Prueba) ===\n",
    "nn_within_2mpg = np.mean(np.abs(y_test - y_pred_nn) <= 2.0) * 100\n",
    "rf_within_2mpg = np.mean(np.abs(y_test - y_pred_rf) <= 2.0) * 100"
   ]
  },
  {
   "cell_type": "code",
   "execution_count": 274,
   "id": "14a7ee3f-d3da-4716-83a0-e5d1a653a6ce",
   "metadata": {},
   "outputs": [
    {
     "name": "stdout",
     "output_type": "stream",
     "text": [
      "\n",
      "=== Red Neuronal ===\n",
      "R² promedio (5-fold): 84.9445580528468\n",
      "R² por fold: [0.87165025 0.83286176 0.83152913 0.83505803 0.87612873]\n",
      "Desviación estándar de R²: 0.02\n",
      "Promedio de R²: 0.8494\n",
      "Varianza de R²: 0.0004\n",
      "RMSE promedio (5-fold): 3.0153614559496207\n",
      "RMSE por fold: [2.62695825 3.16587989 3.06979549 3.50328223 2.71089143]\n",
      "Desviación estándar de RMSE: 0.3185\n",
      "Promedio de RMSE: 3.0154\n",
      "Varianza de RMSE: 0.1014\n",
      "Conjunto de Prueba - R²: 0.8799\n",
      "Conjunto de Prueba - RMSE: 2.5416\n",
      "Conjunto de Prueba - % predicciones dentro de ±2 mpg: 58.75\n"
     ]
    }
   ],
   "source": [
    "print(\"\\n=== Red Neuronal ===\")\n",
    "print(\"R² promedio (5-fold):\", nn_r2_mean * 100)\n",
    "print(\"R² por fold:\", nn_r2_scores)\n",
    "print(\"Desviación estándar de R²:\", round(nn_r2_std, 4))\n",
    "print(\"Promedio de R²:\", round(nn_r2_mean, 4))\n",
    "print(\"Varianza de R²:\", round(nn_r2_var, 4))\n",
    "print(\"RMSE promedio (5-fold):\", nn_rmse_mean)\n",
    "print(\"RMSE por fold:\", nn_rmse_scores)\n",
    "print(\"Desviación estándar de RMSE:\", round(nn_rmse_std, 4))\n",
    "print(\"Promedio de RMSE:\", round(nn_rmse_mean, 4))\n",
    "print(\"Varianza de RMSE:\", round(nn_rmse_var, 4))\n",
    "print(\"Conjunto de Prueba - R²:\", 0.8799)\n",
    "print(\"Conjunto de Prueba - RMSE:\", 2.5416)\n",
    "print(\"Conjunto de Prueba - % predicciones dentro de ±2 mpg:\", nn_within_2mpg)"
   ]
  },
  {
   "cell_type": "code",
   "execution_count": 275,
   "id": "6a72a71e-5937-40e0-b8aa-e7e124b622f8",
   "metadata": {},
   "outputs": [
    {
     "name": "stdout",
     "output_type": "stream",
     "text": [
      "\n",
      "=== Random Forest ===\n",
      "R² promedio (5-fold): 85.7872038487631\n",
      "R² por fold: [0.89748746 0.88263632 0.80090507 0.83747928 0.87085206]\n",
      "Desviación estándar de R²: 0.0347\n",
      "Promedio de R²: 0.8579\n",
      "Varianza de R²: 0.0012\n",
      "RMSE promedio (5-fold): 2.916657438646941\n",
      "RMSE por fold: [2.34770834 2.65291533 3.33716081 3.47747408 2.76802863]\n",
      "Desviación estándar de RMSE: 0.4258\n",
      "Promedio de RMSE: 2.9167\n",
      "Varianza de RMSE: 0.1813\n",
      "Conjunto de Prueba - R²: 0.8967\n",
      "Conjunto de Prueba - RMSE: 2.3569\n",
      "Conjunto de Prueba - % predicciones dentro de ±2 mpg: 61.25000000000001\n"
     ]
    }
   ],
   "source": [
    "print(\"\\n=== Random Forest ===\")\n",
    "print(\"R² promedio (5-fold):\", rf_r2_mean * 100)\n",
    "print(\"R² por fold:\", rf_r2_scores)\n",
    "print(\"Desviación estándar de R²:\", round(rf_r2_std, 4))\n",
    "print(\"Promedio de R²:\", round(rf_r2_mean, 4))\n",
    "print(\"Varianza de R²:\", round(rf_r2_var, 4))\n",
    "print(\"RMSE promedio (5-fold):\", rf_rmse_mean)\n",
    "print(\"RMSE por fold:\", rf_rmse_scores)\n",
    "print(\"Desviación estándar de RMSE:\", round(rf_rmse_std, 4))\n",
    "print(\"Promedio de RMSE:\", round(rf_rmse_mean, 4))\n",
    "print(\"Varianza de RMSE:\", round(rf_rmse_var, 4))\n",
    "print(\"Conjunto de Prueba - R²:\", 0.8967)\n",
    "print(\"Conjunto de Prueba - RMSE:\", 2.3569)\n",
    "print(\"Conjunto de Prueba - % predicciones dentro de ±2 mpg:\", rf_within_2mpg)"
   ]
  },
  {
   "cell_type": "markdown",
   "id": "d7feed80-dd78-4b1b-bc33-6094bbdd7948",
   "metadata": {},
   "source": [
    "## Gráfica de Dispersión"
   ]
  },
  {
   "cell_type": "code",
   "execution_count": 271,
   "id": "ac9e9e4e-f9c7-4896-86d8-18bf02a830b0",
   "metadata": {},
   "outputs": [
    {
     "data": {
      "image/png": "[encoded data removed]",
      "text/plain": [
       "<Figure size 1200x500 with 2 Axes>"
      ]
     },
     "metadata": {},
     "output_type": "display_data"
    }
   ],
   "source": [
    "import matplotlib.pyplot as plt\n",
    "\n",
    "# Gráfica de dispersión\n",
    "plt.figure(figsize=(12, 5))\n",
    "\n",
    "# Red Neuronal\n",
    "plt.subplot(1, 2, 1)\n",
    "plt.scatter(y_test, y_pred_nn, color='blue', alpha=0.5)\n",
    "plt.plot([y_test.min(), y_test.max()], [y_test.min(), y_test.max()], 'r--', lw=2)\n",
    "plt.xlabel('Valores Reales (mpg)')\n",
    "plt.ylabel('Predicciones (mpg)')\n",
    "plt.title('Red Neuronal: Dispersión de Predicciones')\n",
    "plt.grid(True)\n",
    "\n",
    "# Random Forest\n",
    "plt.subplot(1, 2, 2)\n",
    "plt.scatter(y_test, y_pred_rf, color='green', alpha=0.5)\n",
    "plt.plot([y_test.min(), y_test.max()], [y_test.min(), y_test.max()], 'r--', lw=2)\n",
    "plt.xlabel('Valores Reales (mpg)')\n",
    "plt.ylabel('Predicciones (mpg)')\n",
    "plt.title('Random Forest: Dispersión de Predicciones')\n",
    "plt.grid(True)\n",
    "\n",
    "plt.tight_layout()\n",
    "plt.show()"
   ]
  },
  {
   "cell_type": "markdown",
   "id": "58ca3f4d-3937-4a69-9c36-c10f112ea13e",
   "metadata": {},
   "source": [
    "## Gráfica de Residuos"
   ]
  },
  {
   "cell_type": "code",
   "execution_count": 272,
   "id": "07d6d4a7-f5f4-4414-86ad-bed49cbe2bf7",
   "metadata": {},
   "outputs": [
    {
     "data": {
      "image/png": "[encoded data removed]",
      "text/plain": [
       "<Figure size 1200x500 with 2 Axes>"
      ]
     },
     "metadata": {},
     "output_type": "display_data"
    }
   ],
   "source": [
    "import matplotlib.pyplot as plt\n",
    "\n",
    "# Residuos\n",
    "nn_residuals = y_test - y_pred_nn\n",
    "rf_residuals = y_test - y_pred_rf\n",
    "\n",
    "plt.figure(figsize=(12, 5))\n",
    "\n",
    "# Red Neuronal\n",
    "plt.subplot(1, 2, 1)\n",
    "plt.scatter(y_pred_nn, nn_residuals, color='blue', alpha=0.5)\n",
    "plt.axhline(y=0, color='r', linestyle='--')\n",
    "plt.xlabel('Predicciones (mpg)')\n",
    "plt.ylabel('Residuos')\n",
    "plt.title('Red Neuronal: Gráfica de Residuos')\n",
    "plt.grid(True)\n",
    "\n",
    "# Random Forest\n",
    "plt.subplot(1, 2, 2)\n",
    "plt.scatter(y_pred_rf, rf_residuals, color='green', alpha=0.5)\n",
    "plt.axhline(y=0, color='r', linestyle='--')\n",
    "plt.xlabel('Predicciones (mpg)')\n",
    "plt.ylabel('Residuos')\n",
    "plt.title('Random Forest: Gráfica de Residuos')\n",
    "plt.grid(True)\n",
    "\n",
    "plt.tight_layout()\n",
    "plt.show()"
   ]
  }
 ],
 "metadata": {
  "kernelspec": {
   "display_name": "Python 3 (ipykernel)",
   "language": "python",
   "name": "python3"
  },
  "language_info": {
   "codemirror_mode": {
    "name": "ipython",
    "version": 3
   },
   "file_extension": ".py",
   "mimetype": "text/x-python",
   "name": "python",
   "nbconvert_exporter": "python",
   "pygments_lexer": "ipython3",
   "version": "3.13.2"
  }
 },
 "nbformat": 4,
 "nbformat_minor": 5
}
